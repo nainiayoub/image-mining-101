{
  "nbformat": 4,
  "nbformat_minor": 0,
  "metadata": {
    "colab": {
      "name": "image-search-hist.ipynb",
      "provenance": [],
      "collapsed_sections": []
    },
    "kernelspec": {
      "name": "python3",
      "display_name": "Python 3"
    },
    "language_info": {
      "name": "python"
    }
  },
  "cells": [
    {
      "cell_type": "markdown",
      "metadata": {
        "id": "UxbVIrDjReUH"
      },
      "source": [
        "We will be searching and then plotting the most similar images (that have the lowest hist value) to an input image (example: digits.images[0]) from the first 1000 images of the digits dataset."
      ]
    },
    {
      "cell_type": "code",
      "metadata": {
        "id": "lVvmbFJ5FjWE"
      },
      "source": [
        "import cv2 as cv\n",
        "import matplotlib.pyplot as plt\n",
        "import numpy as np"
      ],
      "execution_count": 3,
      "outputs": []
    },
    {
      "cell_type": "markdown",
      "metadata": {
        "id": "QFmQ5nqEP5Ao"
      },
      "source": [
        "# Hist Function\n"
      ]
    },
    {
      "cell_type": "code",
      "metadata": {
        "id": "gVVXZimSIDSH"
      },
      "source": [
        "import collections\n",
        "def hist(img, pixel):\n",
        "    count = collections.Counter(img)\n",
        "            \n",
        "    return count[pixel]"
      ],
      "execution_count": 6,
      "outputs": []
    },
    {
      "cell_type": "code",
      "metadata": {
        "id": "fP2O5t_2IFKR"
      },
      "source": [
        "def distance_occurence(image1, image2):\n",
        "    img1 = image1\n",
        "    img2 = image2\n",
        "    img1_distinct_ele = img1\n",
        "    img2_distinct_ele = img2\n",
        "    distance = 0\n",
        "    for a in img1_distinct_ele:\n",
        "        hist_a_img2 = hist(img2, a)\n",
        "        hist_a_img1 = hist(img1, a)\n",
        "        \n",
        "        if hist_a_img2 != hist_a_img1:\n",
        "            distance += abs(hist_a_img2 - hist_a_img1)\n",
        "        \n",
        "    for b in img2_distinct_ele:    \n",
        "        hist_b_img2 = hist(img2, b)\n",
        "        hist_b_img1 = hist(img1, b)\n",
        "\n",
        "        if hist_b_img1 == 0:\n",
        "            distance += hist_b_img2\n",
        "        \n",
        "    return distance"
      ],
      "execution_count": 7,
      "outputs": []
    },
    {
      "cell_type": "markdown",
      "metadata": {
        "id": "bu-bQ8i2QFzu"
      },
      "source": [
        "# Computing the hist between images 0 of digits and the next 1000 images"
      ]
    },
    {
      "cell_type": "code",
      "metadata": {
        "id": "0A89jM8WNPyV"
      },
      "source": [
        "from sklearn import datasets\n",
        "digits = datasets.load_digits()\n",
        "\n",
        "# Fixed image\n",
        "digit1 = digits.images[0]\n",
        "\n",
        "# Crating an array of results\n",
        "hist_distance = []\n",
        "\n",
        "# Computing the hist between the source image and mnist dataset images\n",
        "for i in range(1000):\n",
        "  hist_distance.append(distance_occurence(digit1.flatten(), digits.images[i].flatten()))\n"
      ],
      "execution_count": 37,
      "outputs": []
    },
    {
      "cell_type": "code",
      "metadata": {
        "colab": {
          "base_uri": "https://localhost:8080/"
        },
        "id": "WLCwfN7hPfCL",
        "outputId": "da1c11e7-5970-4a2b-a26b-2e1ead447b81"
      },
      "source": [
        "# printing the array\n",
        "print(\"Array of hist distances between source image and each other image: \\n\", hist_distance)"
      ],
      "execution_count": 38,
      "outputs": [
        {
          "output_type": "stream",
          "text": [
            "Array of hist distances between source image and each other image: \n",
            " [0, 338, 127, 110, 223, 285, 258, 140, 171, 183, 158, 293, 223, 93, 137, 134, 235, 117, 210, 242, 146, 283, 204, 158, 356, 257, 269, 200, 154, 250, 186, 259, 204, 216, 126, 101, 138, 145, 122, 89, 130, 210, 317, 308, 176, 254, 187, 344, 90, 58, 145, 179, 170, 173, 140, 198, 315, 323, 162, 178, 202, 154, 252, 132, 180, 209, 232, 305, 259, 269, 369, 101, 195, 202, 171, 360, 158, 168, 93, 94, 256, 165, 238, 230, 78, 319, 147, 237, 317, 285, 254, 171, 178, 355, 234, 344, 125, 159, 201, 409, 286, 124, 305, 251, 322, 191, 312, 470, 223, 191, 259, 258, 96, 187, 211, 194, 152, 232, 145, 207, 228, 277, 263, 219, 218, 274, 267, 218, 105, 313, 126, 257, 193, 298, 343, 199, 222, 292, 310, 241, 175, 363, 207, 206, 295, 250, 124, 276, 259, 166, 123, 262, 216, 189, 220, 228, 317, 218, 72, 211, 320, 277, 211, 224, 130, 205, 226, 84, 118, 257, 179, 414, 346, 214, 130, 142, 164, 233, 255, 105, 205, 198, 317, 124, 252, 310, 419, 218, 198, 228, 194, 265, 239, 146, 325, 143, 221, 114, 248, 80, 394, 231, 162, 115, 324, 300, 253, 372, 264, 234, 321, 295, 224, 144, 372, 403, 311, 187, 289, 142, 192, 180, 245, 194, 243, 276, 212, 323, 283, 132, 274, 219, 76, 262, 114, 359, 281, 269, 204, 253, 244, 348, 114, 173, 220, 245, 200, 268, 114, 228, 216, 212, 165, 127, 160, 71, 118, 325, 185, 176, 269, 130, 147, 228, 143, 141, 73, 406, 132, 150, 215, 225, 153, 199, 142, 198, 43, 238, 121, 147, 231, 133, 134, 125, 106, 163, 144, 193, 172, 156, 228, 136, 82, 105, 139, 151, 138, 210, 427, 280, 252, 131, 198, 356, 114, 88, 154, 223, 280, 257, 189, 86, 295, 197, 176, 231, 160, 150, 114, 93, 173, 159, 149, 163, 272, 179, 345, 202, 75, 179, 191, 113, 189, 91, 107, 124, 420, 132, 190, 159, 234, 425, 238, 245, 155, 204, 388, 146, 154, 390, 323, 161, 236, 183, 123, 444, 167, 43, 264, 186, 143, 164, 143, 372, 240, 158, 201, 244, 302, 100, 272, 117, 161, 122, 256, 135, 206, 160, 78, 173, 187, 134, 72, 110, 164, 165, 114, 262, 293, 134, 111, 212, 202, 195, 102, 106, 186, 278, 185, 98, 234, 128, 322, 142, 91, 96, 147, 351, 116, 115, 189, 120, 179, 116, 195, 106, 142, 227, 62, 97, 169, 151, 88, 287, 247, 101, 66, 246, 394, 99, 222, 160, 109, 244, 191, 79, 223, 200, 120, 207, 230, 68, 346, 201, 102, 73, 99, 189, 100, 203, 178, 208, 214, 162, 283, 48, 382, 242, 119, 159, 175, 281, 133, 201, 47, 130, 342, 100, 169, 202, 180, 355, 162, 206, 131, 275, 353, 184, 81, 350, 231, 174, 88, 182, 113, 351, 166, 90, 160, 222, 137, 208, 173, 366, 123, 81, 250, 258, 148, 112, 212, 183, 121, 243, 225, 270, 90, 251, 133, 191, 276, 168, 53, 218, 174, 88, 163, 263, 169, 122, 175, 99, 191, 323, 152, 167, 78, 333, 122, 70, 137, 201, 184, 216, 106, 156, 59, 319, 192, 127, 158, 180, 170, 247, 78, 56, 97, 124, 183, 72, 153, 72, 94, 139, 86, 201, 162, 179, 266, 128, 273, 212, 197, 194, 125, 142, 178, 125, 257, 170, 142, 63, 321, 150, 160, 125, 159, 63, 256, 195, 193, 247, 223, 163, 129, 96, 158, 116, 199, 201, 132, 110, 97, 215, 151, 128, 241, 302, 201, 80, 198, 200, 237, 103, 181, 162, 268, 96, 215, 272, 250, 170, 141, 98, 103, 349, 96, 147, 96, 141, 132, 53, 168, 285, 244, 176, 93, 146, 313, 173, 56, 212, 218, 156, 223, 114, 119, 138, 76, 154, 162, 107, 54, 104, 225, 88, 163, 375, 176, 121, 218, 63, 182, 132, 93, 130, 124, 272, 82, 120, 234, 203, 169, 241, 124, 201, 152, 324, 128, 131, 169, 159, 252, 166, 111, 181, 135, 237, 143, 246, 176, 72, 66, 240, 131, 226, 94, 171, 292, 163, 152, 120, 206, 332, 148, 188, 224, 148, 127, 103, 209, 120, 272, 121, 243, 205, 163, 224, 119, 133, 178, 150, 179, 227, 221, 177, 238, 177, 52, 308, 166, 117, 76, 190, 189, 89, 293, 180, 179, 139, 225, 298, 209, 172, 276, 186, 308, 104, 193, 306, 131, 189, 126, 171, 238, 305, 125, 113, 166, 185, 179, 163, 145, 189, 94, 296, 136, 80, 128, 178, 79, 152, 189, 243, 281, 121, 341, 134, 239, 108, 145, 115, 52, 87, 151, 214, 33, 367, 253, 184, 255, 260, 66, 237, 97, 178, 180, 380, 121, 134, 211, 145, 175, 203, 149, 147, 181, 314, 257, 122, 140, 269, 97, 301, 140, 209, 69, 247, 246, 286, 171, 257, 131, 132, 98, 162, 123, 119, 449, 293, 209, 150, 300, 329, 81, 136, 248, 214, 318, 97, 153, 172, 368, 171, 209, 98, 102, 280, 146, 200, 149, 195, 188, 87, 337, 92, 343, 298, 160, 206, 250, 242, 152, 332, 341, 103, 334, 275, 232, 187, 204, 250, 228, 121, 151, 184, 416, 293, 195, 372, 302, 174, 81, 200, 229, 310, 329, 89, 119, 205, 187, 66, 147, 244, 239, 230, 218, 256, 247, 230, 281, 260, 214, 147, 253, 55, 208, 106, 242, 241, 126, 53, 127, 198, 133, 90, 312, 217, 192, 145, 104, 155, 127, 194, 170, 120, 350, 137, 163, 159, 102, 158, 197, 129, 140, 117, 321, 237, 181, 147, 243, 192, 139, 97, 119, 111, 154, 59, 110, 136, 156, 109, 125, 128, 149, 115, 169, 307, 98, 180, 152, 179, 259, 233, 111, 98, 170, 81, 318, 271, 191, 113, 143, 107, 235, 165, 271, 98, 132, 250, 125, 142, 276, 88, 54, 188, 150, 174, 271, 204, 35, 106, 313, 165, 136, 240, 227, 295, 189, 156, 216, 260, 112, 112, 294, 120, 93, 89, 157, 158]\n"
          ],
          "name": "stdout"
        }
      ]
    },
    {
      "cell_type": "code",
      "metadata": {
        "id": "GbfnM8aFgvmM"
      },
      "source": [
        "# Get min from a list\n",
        "def get_min(list):\n",
        "  min = list[0]\n",
        "  for i in list:\n",
        "    if i < min:\n",
        "      min = i\n",
        "\n",
        "  return min\n",
        "\n",
        "# Get max from a list\n",
        "def get_max(list):\n",
        "  max = list[0]\n",
        "  for i in list:\n",
        "    if i > max:\n",
        "      max = i\n",
        "\n",
        "  return max"
      ],
      "execution_count": 16,
      "outputs": []
    },
    {
      "cell_type": "markdown",
      "metadata": {
        "id": "rR1_ZmMHQOyc"
      },
      "source": [
        "# Getting the top 10 most similar images of the 1000 images of digits dataset"
      ]
    },
    {
      "cell_type": "code",
      "metadata": {
        "colab": {
          "base_uri": "https://localhost:8080/"
        },
        "id": "VuaFV1VaKBMu",
        "outputId": "2570a4ad-9b88-49cb-a894-f6317fcaeb3a"
      },
      "source": [
        "def topSimilar(hist_distance):\n",
        "  min = 0\n",
        "  input = hist_distance\n",
        "  similar_images = []\n",
        "  min_hists = []\n",
        "\n",
        "  for i in range(10):\n",
        "      # get min and max values\n",
        "      min = get_min(input)\n",
        "      max = get_max(input)\n",
        "\n",
        "      # Store minimum hist as lables\n",
        "      min_hists.append(min)\n",
        "      \n",
        "      # Get index of the min\n",
        "      indice = input.index(min)\n",
        "\n",
        "      # Append the index in the resulted list\n",
        "      similar_images.append(indice)\n",
        "\n",
        "      # Reset the min to the max value\n",
        "      input[indice] = max\n",
        "\n",
        "  return similar_images, min_hists\n",
        "\n",
        "similar_images, min_hist = topSimilar(hist_distance)\n",
        "print(\"Similar images: \", similar_images)\n",
        "print(\"Minimum hists: \", min_hists)"
      ],
      "execution_count": 39,
      "outputs": [
        {
          "output_type": "stream",
          "text": [
            "Similar images:  [0, 776, 980, 276, 357, 464, 455, 718, 772, 512]\n",
            "Minimum hists:  [0, 33, 35, 43, 43, 47, 48, 52, 52, 53]\n"
          ],
          "name": "stdout"
        }
      ]
    },
    {
      "cell_type": "markdown",
      "metadata": {
        "id": "xEzmYC9VQYhH"
      },
      "source": [
        "# Plotting the top10 images with their hist values as labels"
      ]
    },
    {
      "cell_type": "code",
      "metadata": {
        "colab": {
          "base_uri": "https://localhost:8080/",
          "height": 284
        },
        "id": "0OEUUueBNoT2",
        "outputId": "94262b29-4de9-4d51-b585-14bdc2001219"
      },
      "source": [
        "num_col = 5\n",
        "num_row = 2\n",
        "num = 10\n",
        "\n",
        "fig, axes = plt.subplots(num_row, num_col, figsize = (1.5*num_col, 2*num_row))\n",
        "\n",
        "for i in range(num) :\n",
        "    ax = axes[i//num_col, i%num_col]\n",
        "    ax.imshow(digits.images[similar_images[i]])\n",
        "    ax.set_title('Hist: {}'.format(min_hists[i]))\n",
        "plt.tight_layout()\n",
        "plt.show()"
      ],
      "execution_count": 41,
      "outputs": [
        {
          "output_type": "display_data",
          "data": {
            "image/png": "[encoded data removed]",
            "text/plain": [
              "<Figure size 540x288 with 10 Axes>"
            ]
          },
          "metadata": {
            "tags": [],
            "needs_background": "light"
          }
        }
      ]
    }
  ]
}