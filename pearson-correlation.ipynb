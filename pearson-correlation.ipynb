{
 "cells": [
  {
   "cell_type": "code",
   "execution_count": 1,
   "metadata": {},
   "outputs": [],
   "source": [
    "import cv2 as cv\n",
    "import matplotlib.pyplot as plt\n",
    "import numpy as np"
   ]
  },
  {
   "cell_type": "code",
   "execution_count": 2,
   "metadata": {},
   "outputs": [],
   "source": [
    "def correlation(image1, image2):\n",
    "    img1 = image1.flatten()\n",
    "    img2 = image2.flatten()\n",
    "    numerator = 0\n",
    "    r_denom_x = 0\n",
    "    r_denom_y = 0\n",
    "    mean_num_x = 0\n",
    "    mean_num_y = 0\n",
    "    \n",
    "    # Mean\n",
    "    for a, b in zip(img1, img2):\n",
    "        mean_num_x += a\n",
    "        mean_num_y += b\n",
    "        \n",
    "    mean_x = mean_num_x / len(img1)\n",
    "    mean_y = mean_num_x / len(img2)\n",
    "    \n",
    "    # Correlation\n",
    "    for a, b in zip(img1, img2):\n",
    "        numerator += ((a-mean_x) * (b-mean_y))\n",
    "        r_denom_x += pow((a-mean_x), 2) \n",
    "        r_denom_y += pow((b-mean_y), 2) \n",
    "        \n",
    "    denominator = np.sqrt(r_denom_x * r_denom_y)\n",
    "    \n",
    "    return numerator / denominator"
   ]
  },
  {
   "cell_type": "code",
   "execution_count": 3,
   "metadata": {},
   "outputs": [],
   "source": [
    "# Reading images\n",
    "image1 = cv.imread(\"C:/Users/hp/Desktop/flower.jpg\", cv.IMREAD_GRAYSCALE)\n",
    "image2 = cv.imread(\"C:/Users/hp/Desktop/yellowFlower.jpg\", cv.IMREAD_GRAYSCALE)"
   ]
  },
  {
   "cell_type": "code",
   "execution_count": 4,
   "metadata": {},
   "outputs": [
    {
     "name": "stdout",
     "output_type": "stream",
     "text": [
      "Pearson Correlation:  0.22270457079177827\n"
     ]
    }
   ],
   "source": [
    "# Test: Pearson Correlation between two images\n",
    "print(\"Pearson Correlation: \", correlation(image1, image2))"
   ]
  }
 ],
 "metadata": {
  "kernelspec": {
   "display_name": "Python 3",
   "language": "python",
   "name": "python3"
  },
  "language_info": {
   "codemirror_mode": {
    "name": "ipython",
    "version": 3
   },
   "file_extension": ".py",
   "mimetype": "text/x-python",
   "name": "python",
   "nbconvert_exporter": "python",
   "pygments_lexer": "ipython3",
   "version": "3.8.5"
  }
 },
 "nbformat": 4,
 "nbformat_minor": 4
}
