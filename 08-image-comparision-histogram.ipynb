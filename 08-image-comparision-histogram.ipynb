{
  "nbformat": 4,
  "nbformat_minor": 0,
  "metadata": {
    "colab": {
      "name": "image-search-hist.ipynb",
      "provenance": [],
      "collapsed_sections": []
    },
    "kernelspec": {
      "name": "python3",
      "display_name": "Python 3"
    },
    "language_info": {
      "name": "python"
    }
  },
  "cells": [
    {
      "cell_type": "code",
      "metadata": {
        "id": "qf8-HNJmFffR"
      },
      "source": [
        "import matplotlib.pyplot as plt"
      ],
      "execution_count": 2,
      "outputs": []
    },
    {
      "cell_type": "code",
      "metadata": {
        "id": "lVvmbFJ5FjWE"
      },
      "source": [
        "import cv2 as cv\n",
        "import matplotlib.pyplot as plt\n",
        "import numpy as np"
      ],
      "execution_count": 6,
      "outputs": []
    },
    {
      "cell_type": "code",
      "metadata": {
        "id": "gVVXZimSIDSH"
      },
      "source": [
        "import collections\n",
        "def hist(img, pixel):\n",
        "    count = collections.Counter(img)\n",
        "            \n",
        "    return count[pixel]"
      ],
      "execution_count": 7,
      "outputs": []
    },
    {
      "cell_type": "code",
      "metadata": {
        "id": "fP2O5t_2IFKR"
      },
      "source": [
        "def distance_occurence(image1, image2):\n",
        "    img1 = image1\n",
        "    img2 = image2\n",
        "    img1_distinct_ele = img1\n",
        "    img2_distinct_ele = img2\n",
        "    distance = 0\n",
        "    for a in img1_distinct_ele:\n",
        "        hist_a_img2 = hist(img2, a)\n",
        "        hist_a_img1 = hist(img1, a)\n",
        "        \n",
        "        if hist_a_img2 != hist_a_img1:\n",
        "            distance += abs(hist_a_img2 - hist_a_img1)\n",
        "        \n",
        "    for b in img2_distinct_ele:    \n",
        "        hist_b_img2 = hist(img2, b)\n",
        "        hist_b_img1 = hist(img1, b)\n",
        "\n",
        "        if hist_b_img1 == 0:\n",
        "            distance += hist_b_img2\n",
        "        \n",
        "    return distance"
      ],
      "execution_count": 8,
      "outputs": []
    },
    {
      "cell_type": "code",
      "metadata": {
        "colab": {
          "base_uri": "https://localhost:8080/"
        },
        "id": "9Pn0biteIJ4Z",
        "outputId": "8b0b8475-2ea3-4025-a22d-4a60f147d5d2"
      },
      "source": [
        "print(\"Hist: \", distance_occurence(x_train[1].flatten(), x_train[1].flatten()))"
      ],
      "execution_count": 11,
      "outputs": [
        {
          "output_type": "stream",
          "text": [
            "Hist:  0\n"
          ],
          "name": "stdout"
        }
      ]
    },
    {
      "cell_type": "code",
      "metadata": {
        "id": "0A89jM8WNPyV"
      },
      "source": [
        "from sklearn import datasets\n",
        "digits = datasets.load_digits()\n",
        "\n",
        "# Fixed image\n",
        "digit1 = digits.images[0]\n",
        "\n",
        "# Crating an array of results\n",
        "hist_distance = []\n",
        "\n",
        "# Computing the hist between the source image and mnist dataset images\n",
        "for i in range(10):\n",
        "  hist_distance.append(distance_occurence(digit1.flatten(), digits.images[i].flatten()))\n"
      ],
      "execution_count": 60,
      "outputs": []
    },
    {
      "cell_type": "code",
      "metadata": {
        "colab": {
          "base_uri": "https://localhost:8080/"
        },
        "id": "WLCwfN7hPfCL",
        "outputId": "cbbd9aff-823a-4748-d0aa-3d9586f50763"
      },
      "source": [
        "# printing the array\n",
        "print(\"Array of hist distances between source image and each other image: \\n\", hist_distance)"
      ],
      "execution_count": 61,
      "outputs": [
        {
          "output_type": "stream",
          "text": [
            "Array of hist distances between source image and each other image: \n",
            " [0, 338, 127, 110, 223, 285, 258, 140, 171, 183]\n"
          ],
          "name": "stdout"
        }
      ]
    },
    {
      "cell_type": "code",
      "metadata": {
        "colab": {
          "base_uri": "https://localhost:8080/",
          "height": 284
        },
        "id": "1NCemz22P8cA",
        "outputId": "fb11d5b7-ed30-47f9-9b01-4ddd258d4fca"
      },
      "source": [
        "num_col = 5\n",
        "num_row = 2\n",
        "num = 10\n",
        "\n",
        "fig, axes = plt.subplots(num_row, num_col, figsize = (1.5*num_col, 2*num_row))\n",
        "\n",
        "for i in range(num) :\n",
        "    ax = axes[i//num_col, i%num_col]\n",
        "    ax.imshow(digits.images[i], cmap='gray')\n",
        "    ax.set_title('Hist: {}'.format(hist_distance[i]))\n",
        "plt.tight_layout()\n",
        "plt.show()\n",
        "\n"
      ],
      "execution_count": 69,
      "outputs": [
        {
          "output_type": "display_data",
          "data": {
            "image/png": "[encoded data removed]",
            "text/plain": [
              "<Figure size 540x288 with 10 Axes>"
            ]
          },
          "metadata": {
            "tags": [],
            "needs_background": "light"
          }
        }
      ]
    },
    {
      "cell_type": "code",
      "metadata": {
        "colab": {
          "base_uri": "https://localhost:8080/",
          "height": 302
        },
        "id": "GbfnM8aFgvmM",
        "outputId": "e58470e8-0a76-45a8-fb73-0748911a5994"
      },
      "source": [
        "min = 1000\n",
        "indice = 0\n",
        "for i in range(num):\n",
        "  if hist_distance[i] != 0 and hist_distance[i] < min:\n",
        "    min = hist_distance[i]\n",
        "    indice = i\n",
        "\n",
        "print(\"Optimal hist after the image itself: \", min)\n",
        "plt.imshow(digits.images[indice], cmap='gray')\n",
        "\n"
      ],
      "execution_count": 72,
      "outputs": [
        {
          "output_type": "stream",
          "text": [
            "Optimal hist after the image itself:  110\n"
          ],
          "name": "stdout"
        },
        {
          "output_type": "execute_result",
          "data": {
            "text/plain": [
              "<matplotlib.image.AxesImage at 0x7fc576797290>"
            ]
          },
          "metadata": {
            "tags": []
          },
          "execution_count": 72
        },
        {
          "output_type": "display_data",
          "data": {
            "image/png": "[encoded data removed]",
            "text/plain": [
              "<Figure size 432x288 with 1 Axes>"
            ]
          },
          "metadata": {
            "tags": [],
            "needs_background": "light"
          }
        }
      ]
    }
  ]
}