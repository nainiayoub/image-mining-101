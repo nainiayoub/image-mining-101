{
 "cells": [
  {
   "cell_type": "code",
   "execution_count": 1,
   "metadata": {},
   "outputs": [],
   "source": [
    "import cv2 as cv\n",
    "import matplotlib.pyplot as plt\n",
    "import numpy as np"
   ]
  },
  {
   "cell_type": "code",
   "execution_count": 2,
   "metadata": {},
   "outputs": [],
   "source": [
    "def distance_pixels(image1, image2):\n",
    "    img1 = image1.flatten()\n",
    "    img2 = image2.flatten()\n",
    "    distance = 0\n",
    "    \n",
    "    for a, b in zip(img1, img2):\n",
    "        distance += abs(a-b)\n",
    "        \n",
    "    return distance"
   ]
  },
  {
   "cell_type": "code",
   "execution_count": 3,
   "metadata": {},
   "outputs": [],
   "source": [
    "import collections\n",
    "def hist(img, pixel):\n",
    "    count = collections.Counter(img)\n",
    "            \n",
    "    return count[pixel]"
   ]
  },
  {
   "cell_type": "code",
   "execution_count": 4,
   "metadata": {},
   "outputs": [],
   "source": [
    "def distance_occurence(image1, image2):\n",
    "    img1 = image1\n",
    "    img2 = image2\n",
    "    img1_distinct_ele = img1\n",
    "    img2_distinct_ele = img2\n",
    "    distance = 0\n",
    "    for a in img1_distinct_ele:\n",
    "        hist_a_img2 = hist(img2, a)\n",
    "        hist_a_img1 = hist(img1, a)\n",
    "        \n",
    "        if hist_a_img2 != hist_a_img1:\n",
    "            distance += abs(hist_a_img2 - hist_a_img1)\n",
    "        \n",
    "    for b in img2_distinct_ele:    \n",
    "        hist_b_img2 = hist(img2, b)\n",
    "        hist_b_img1 = hist(img1, b)\n",
    "\n",
    "        if hist_b_img1 == 0:\n",
    "            distance += hist_b_img2\n",
    "        \n",
    "    return distance"
   ]
  },
  {
   "cell_type": "code",
   "execution_count": 6,
   "metadata": {},
   "outputs": [
    {
     "name": "stdout",
     "output_type": "stream",
     "text": [
      "Distance occurence:  5\n"
     ]
    }
   ],
   "source": [
    "# The lesson example\n",
    "print(\"Distance occurence: \", distance_occurence([5, 10, 1, 8, 3, 3, 10, 100, 2], [5, 10, 1, 8, 9, 3, 10, 100, 255]))"
   ]
  },
  {
   "cell_type": "code",
   "execution_count": 7,
   "metadata": {},
   "outputs": [
    {
     "name": "stdout",
     "output_type": "stream",
     "text": [
      "53200\n"
     ]
    }
   ],
   "source": [
    "print(len(image2.flatten()))"
   ]
  },
  {
   "cell_type": "code",
   "execution_count": 8,
   "metadata": {},
   "outputs": [
    {
     "name": "stdout",
     "output_type": "stream",
     "text": [
      "hist( 10 ) =  2\n"
     ]
    }
   ],
   "source": [
    "txt = [5, 10, 1, 8, 6, 3, 10, 100, 2]\n",
    "pixel = 10\n",
    "count = 0\n",
    "for i in txt:\n",
    "    if (pixel == i) :\n",
    "        count += 1\n",
    "print(\"hist(\",pixel,\") = \", count)"
   ]
  },
  {
   "cell_type": "code",
   "execution_count": 16,
   "metadata": {},
   "outputs": [
    {
     "data": {
      "text/plain": [
       "array([ 13,  75,  57,  82, 235,  63, 158, 234, 100, 142, 177, 228, 230,\n",
       "       247,  98, 173, 233, 147,  50, 182,  14, 232, 167, 213,  98, 199,\n",
       "        53, 123, 110,  11])"
      ]
     },
     "execution_count": 16,
     "metadata": {},
     "output_type": "execute_result"
    }
   ],
   "source": [
    "vect1 = np.random.randint(0,255,30)\n",
    "vect2 = np.random.randint(0,255,30)\n",
    "vect1"
   ]
  },
  {
   "cell_type": "code",
   "execution_count": 17,
   "metadata": {},
   "outputs": [
    {
     "data": {
      "text/plain": [
       "array([ 42, 221, 215, 113,  37,  76,  73,  30, 148, 233, 153, 249, 220,\n",
       "        55, 188,  77,  36, 178, 194, 153, 164, 220, 191, 236,  57, 207,\n",
       "        32, 178, 229, 146])"
      ]
     },
     "execution_count": 17,
     "metadata": {},
     "output_type": "execute_result"
    }
   ],
   "source": [
    "vect2"
   ]
  },
  {
   "cell_type": "code",
   "execution_count": 19,
   "metadata": {},
   "outputs": [
    {
     "name": "stdout",
     "output_type": "stream",
     "text": [
      "Distance occurence:  64\n"
     ]
    }
   ],
   "source": [
    "print(\"Distance occurence: \", distance_occurence(vect1, vect2))"
   ]
  },
  {
   "cell_type": "code",
   "execution_count": null,
   "metadata": {},
   "outputs": [],
   "source": []
  }
 ],
 "metadata": {
  "kernelspec": {
   "display_name": "Python 3",
   "language": "python",
   "name": "python3"
  },
  "language_info": {
   "codemirror_mode": {
    "name": "ipython",
    "version": 3
   },
   "file_extension": ".py",
   "mimetype": "text/x-python",
   "name": "python",
   "nbconvert_exporter": "python",
   "pygments_lexer": "ipython3",
   "version": "3.8.5"
  }
 },
 "nbformat": 4,
 "nbformat_minor": 4
}
