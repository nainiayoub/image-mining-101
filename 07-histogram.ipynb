{
  "nbformat": 4,
  "nbformat_minor": 0,
  "metadata": {
    "colab": {
      "name": "Histogram.ipynb",
      "provenance": [],
      "collapsed_sections": []
    },
    "kernelspec": {
      "name": "python3",
      "display_name": "Python 3"
    },
    "language_info": {
      "name": "python"
    }
  },
  "cells": [
    {
      "cell_type": "markdown",
      "metadata": {
        "id": "xLUPZAW0bnTy"
      },
      "source": [
        "Computing the histogram distance"
      ]
    },
    {
      "cell_type": "code",
      "metadata": {
        "id": "88D63G0_RqcY"
      },
      "source": [
        "import matplotlib.pyplot as plt\n",
        "import numpy as np\n",
        "import collections\n",
        "from sklearn import datasets\n",
        "digits = datasets.load_digits()"
      ],
      "execution_count": 50,
      "outputs": []
    },
    {
      "cell_type": "code",
      "metadata": {
        "colab": {
          "base_uri": "https://localhost:8080/",
          "height": 283
        },
        "id": "u9uruAlySK8y",
        "outputId": "8ac47d00-ed40-4520-954b-a75a028a8cda"
      },
      "source": [
        "image0 = digits.images[0]\n",
        "image1 = digits.images[1]\n",
        "plt.imshow(image0)"
      ],
      "execution_count": 4,
      "outputs": [
        {
          "output_type": "execute_result",
          "data": {
            "text/plain": [
              "<matplotlib.image.AxesImage at 0x7fdaf27d1750>"
            ]
          },
          "metadata": {
            "tags": []
          },
          "execution_count": 4
        },
        {
          "output_type": "display_data",
          "data": {
            "image/png": "[encoded data removed]",
            "text/plain": [
              "<Figure size 432x288 with 1 Axes>"
            ]
          },
          "metadata": {
            "tags": [],
            "needs_background": "light"
          }
        }
      ]
    },
    {
      "cell_type": "code",
      "metadata": {
        "id": "S-0JapX8T3-n"
      },
      "source": [
        "def occurence(img, pixel):\n",
        "    count = collections.Counter(img)\n",
        "            \n",
        "    return count[pixel]"
      ],
      "execution_count": 51,
      "outputs": []
    },
    {
      "cell_type": "code",
      "metadata": {
        "id": "WlR95ps3SXaz"
      },
      "source": [
        "def hist_distance(img1, img2):\n",
        "  img1 = img1.flatten()\n",
        "  img2 = img2.flatten()\n",
        "  xList = [0]*256\n",
        "  yList = [0]*256\n",
        "\n",
        "  distance = 0\n",
        "  for i in range(len(img1)):\n",
        "    xList[int(img1[i])] += 1\n",
        "    yList[int(img2[i])] += 1\n",
        "  \n",
        "  for k in range(len(xList)):\n",
        "    distance += abs(xList[k] - yList[k])\n",
        "\n",
        "  return distance"
      ],
      "execution_count": 29,
      "outputs": []
    },
    {
      "cell_type": "code",
      "metadata": {
        "colab": {
          "base_uri": "https://localhost:8080/"
        },
        "id": "-Gqpo_hRWHt8",
        "outputId": "5e9dfc11-cc15-40d1-a1fd-807d6b86de66"
      },
      "source": [
        "print(hist_distance(image0, image1))"
      ],
      "execution_count": 33,
      "outputs": [
        {
          "output_type": "stream",
          "text": [
            "40\n"
          ],
          "name": "stdout"
        }
      ]
    },
    {
      "cell_type": "code",
      "metadata": {
        "colab": {
          "base_uri": "https://localhost:8080/"
        },
        "id": "-erBSTHJYxDI",
        "outputId": "d0f44ca2-6ec9-4aa1-f67a-29efe6c9a1e4"
      },
      "source": [
        "# Hist between digits dataset images\n",
        "def digits_hist(imgSource):\n",
        "  allHists = []\n",
        "  for i in range (10):\n",
        "    imgToCompare = digits.images[i]\n",
        "    allHists.append(hist_distance(imgSource, imgToCompare))\n",
        "\n",
        "  return allHists\n",
        "\n",
        "allHists = digits_hist(image0)\n",
        "allHists"
      ],
      "execution_count": 38,
      "outputs": [
        {
          "output_type": "execute_result",
          "data": {
            "text/plain": [
              "[0, 40, 26, 20, 28, 38, 32, 24, 28, 28]"
            ]
          },
          "metadata": {
            "tags": []
          },
          "execution_count": 38
        }
      ]
    },
    {
      "cell_type": "markdown",
      "metadata": {
        "id": "-UwO5n82b4zZ"
      },
      "source": [
        "Image search"
      ]
    },
    {
      "cell_type": "code",
      "metadata": {
        "id": "o52H6-qtZnqR"
      },
      "source": [
        "# Displaying images and their hist\n",
        "def search_images(imgSource):\n",
        "  num_col = 5\n",
        "  num_row = 2\n",
        "  num = 10\n",
        "  allHists = digits_hist(imgSource)\n",
        "  fig, axes = plt.subplots(num_row, num_col, figsize = (1.5*num_col, 2*num_row))\n",
        "\n",
        "  for i in range(num) :\n",
        "    ax = axes[i//num_col, i%num_col]\n",
        "    ax.imshow(digits.images[i], cmap='gray')\n",
        "    if(allHists[i] == 0):\n",
        "      ax.set_title('Source Image')\n",
        "    else:\n",
        "      ax.set_title('Hist: {}'.format(allHists[i]))\n",
        "  plt.tight_layout()\n",
        "  plt.show()\n"
      ],
      "execution_count": 48,
      "outputs": []
    },
    {
      "cell_type": "code",
      "metadata": {
        "colab": {
          "base_uri": "https://localhost:8080/",
          "height": 280
        },
        "id": "uSsyGemwatiD",
        "outputId": "0ca2f9d2-0496-4978-c7fe-479a4106b2b5"
      },
      "source": [
        "search_images(image0)"
      ],
      "execution_count": 49,
      "outputs": [
        {
          "output_type": "display_data",
          "data": {
            "image/png": "[encoded data removed]",
            "text/plain": [
              "<Figure size 540x288 with 10 Axes>"
            ]
          },
          "metadata": {
            "tags": [],
            "needs_background": "light"
          }
        }
      ]
    }
  ]
}